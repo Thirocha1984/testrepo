{
 "cells": [
  {
   "cell_type": "markdown",
   "id": "0bf8d639-b2ce-40fb-882d-98f2c3e8e67d",
   "metadata": {},
   "source": [
    "# Data Science Tools and Ecosystem"
   ]
  },
  {
   "cell_type": "markdown",
   "id": "a8390fac-1d28-493d-9708-96ca0482fd32",
   "metadata": {},
   "source": [
    "# In this notebook, Data Science Tools and Ecosystem are summarized."
   ]
  },
  {
   "cell_type": "markdown",
   "id": "539d17f8-1e7e-4a34-a257-7a803ac98831",
   "metadata": {},
   "source": [
    "**Objectives**\n",
    "\n",
    "    - Master the most up-to-date practical skills and tools that data analysts use in their daily roles\n",
    "    - Develop working knowledge of Python language for analyzing data using Python libraries like Pandas and Numpy, and invoke APIs and Web Services \n",
    "    - Learn how to visualize data and present findings using various charts in Excel spreadsheets and BI tools like IBM Cognos Analytics & Tableau\n",
    "    - Gain technical experience through hands on labs and projects and build a portfolio to showcase your work"
   ]
  },
  {
   "cell_type": "markdown",
   "id": "58a71965-2e49-4e5a-a5ac-0046aa0435b1",
   "metadata": {},
   "source": [
    "# Some of the popular languages that Data Scientists use are:\n",
    "    1. Python\n",
    "    2. R\n",
    "    3. Scala"
   ]
  },
  {
   "cell_type": "markdown",
   "id": "1b86ce28-e240-49d4-b498-890c2e2da3e3",
   "metadata": {},
   "source": [
    "# Some of the commonly used libraries used by Data Scientists include:\n",
    "    1. NumPy\n",
    "    2. Pandas\n",
    "    3. Matplotlib"
   ]
  },
  {
   "cell_type": "markdown",
   "id": "15970783-27d7-4c24-85c2-217b85e260f9",
   "metadata": {},
   "source": [
    "|Data Science Tools|\n",
    "--------------------\n",
    "|Jupyter Notebook|\n",
    "|Apache Spark|\n",
    "|RStudio|"
   ]
  },
  {
   "cell_type": "markdown",
   "id": "b1e71bf0-d596-40c5-91c4-8ff63c3527d1",
   "metadata": {},
   "source": [
    "### Below are a few examples of evaluating arithmetic expressions in Python"
   ]
  },
  {
   "cell_type": "code",
   "execution_count": 7,
   "id": "b658c445-0a8e-4bbc-ad1a-e6cbd5bf58c2",
   "metadata": {},
   "outputs": [
    {
     "data": {
      "text/plain": [
       "17"
      ]
     },
     "execution_count": 7,
     "metadata": {},
     "output_type": "execute_result"
    }
   ],
   "source": [
    "# This a simple arithmetic expression to mutiply then add integers\n",
    "\n",
    "(3*4)+5"
   ]
  },
  {
   "cell_type": "code",
   "execution_count": 8,
   "id": "3b19c8b9-10e6-43d2-80ec-c677636d11c3",
   "metadata": {},
   "outputs": [
    {
     "data": {
      "text/plain": [
       "3.3333333333333335"
      ]
     },
     "execution_count": 8,
     "metadata": {},
     "output_type": "execute_result"
    }
   ],
   "source": [
    "# This will convert 200 minutes to hours by diving by 60\n",
    "\n",
    "200/60"
   ]
  },
  {
   "cell_type": "markdown",
   "id": "b4210e6a-35ac-4c67-b2e1-c2579e751101",
   "metadata": {},
   "source": [
    "## Author\n",
    "\n",
    "Thiago Rocha Esperidião Silva"
   ]
  },
  {
   "cell_type": "code",
   "execution_count": null,
   "id": "b16cd472-6ded-4111-aaf8-ae768de5059a",
   "metadata": {},
   "outputs": [],
   "source": []
  }
 ],
 "metadata": {
  "kernelspec": {
   "display_name": "Python 3 (ipykernel)",
   "language": "python",
   "name": "python3"
  },
  "language_info": {
   "codemirror_mode": {
    "name": "ipython",
    "version": 3
   },
   "file_extension": ".py",
   "mimetype": "text/x-python",
   "name": "python",
   "nbconvert_exporter": "python",
   "pygments_lexer": "ipython3",
   "version": "3.11.7"
  }
 },
 "nbformat": 4,
 "nbformat_minor": 5
}
